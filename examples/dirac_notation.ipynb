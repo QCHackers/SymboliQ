{
 "cells": [
  {
   "cell_type": "code",
   "execution_count": 1,
   "id": "95554422",
   "metadata": {},
   "outputs": [],
   "source": [
    "from IPython.display import display, Math, Latex, Markdown\n",
    "\n",
    "import symboliq\n",
    "\n"
   ]
  },
  {
   "cell_type": "code",
   "execution_count": 2,
   "id": "f4da037f",
   "metadata": {},
   "outputs": [],
   "source": [
    "dirac_notation = symboliq.DiracNotation()"
   ]
  },
  {
   "cell_type": "code",
   "execution_count": 3,
   "id": "b06d2314",
   "metadata": {},
   "outputs": [],
   "source": [
    "res = dirac_notation.get_steps_latex(symboliq.B0 * symboliq.Ket0)"
   ]
  },
  {
   "cell_type": "code",
   "execution_count": 4,
   "id": "600cebe1",
   "metadata": {},
   "outputs": [
    {
     "data": {
      "text/latex": [
       "$\\displaystyle (0) \\quad B_{0} {\\left|0\\right\\rangle } \\\\(1) \\quad \\left\\langle 0 \\right. {\\left|0\\right\\rangle } {\\left|0\\right\\rangle } \\\\(2) \\quad {\\left|0\\right\\rangle } \\\\$"
      ],
      "text/plain": [
       "<IPython.core.display.Math object>"
      ]
     },
     "metadata": {},
     "output_type": "display_data"
    }
   ],
   "source": [
    "display(Math(res))"
   ]
  },
  {
   "cell_type": "code",
   "execution_count": null,
   "id": "f0f9d9bf",
   "metadata": {},
   "outputs": [],
   "source": []
  }
 ],
 "metadata": {
  "kernelspec": {
   "display_name": "Python 3 (ipykernel)",
   "language": "python",
   "name": "python3"
  },
  "language_info": {
   "codemirror_mode": {
    "name": "ipython",
    "version": 3
   },
   "file_extension": ".py",
   "mimetype": "text/x-python",
   "name": "python",
   "nbconvert_exporter": "python",
   "pygments_lexer": "ipython3",
   "version": "3.8.13"
  }
 },
 "nbformat": 4,
 "nbformat_minor": 5
}
