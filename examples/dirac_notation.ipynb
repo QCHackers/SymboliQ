{
 "cells": [
  {
   "cell_type": "code",
   "execution_count": 7,
   "id": "95554422",
   "metadata": {},
   "outputs": [],
   "source": [
    "from IPython.display import display, Math\n",
    "import symboliq"
   ]
  },
  {
   "cell_type": "code",
   "execution_count": 8,
   "id": "f4da037f",
   "metadata": {},
   "outputs": [],
   "source": [
    "dirac_notation = symboliq.DiracNotation()"
   ]
  },
  {
   "cell_type": "code",
   "execution_count": 3,
   "id": "b06d2314",
   "metadata": {},
   "outputs": [],
   "source": [
    "res = dirac_notation.get_steps_latex(symboliq.B0 * symboliq.Ket0)"
   ]
  },
  {
   "cell_type": "code",
   "execution_count": 4,
   "id": "600cebe1",
   "metadata": {},
   "outputs": [
    {
     "data": {
      "text/latex": [
       "$\\displaystyle (0) \\quad B_{0} {\\left|0\\right\\rangle } \\\\(1) \\quad \\left\\langle 0 \\right. {\\left|0\\right\\rangle } {\\left|0\\right\\rangle } \\\\(2) \\quad {\\left|0\\right\\rangle } \\\\$"
      ],
      "text/plain": [
       "<IPython.core.display.Math object>"
      ]
     },
     "metadata": {},
     "output_type": "display_data"
    }
   ],
   "source": [
    "display(Math(res))"
   ]
  },
  {
   "cell_type": "code",
   "execution_count": 2,
   "id": "1e3a1fce",
   "metadata": {},
   "outputs": [],
   "source": [
    "import sympy.physics.quantum\n",
    "from sympy import *\n",
    "from sympy.physics.quantum import (\n",
    "    qapply,\n",
    "    Ket,\n",
    "    Bra,\n",
    "    Dagger,\n",
    "    OuterProduct,\n",
    "    InnerProduct,\n",
    "    TensorProduct,\n",
    "    tensor_product_simp,\n",
    ")"
   ]
  },
  {
   "cell_type": "code",
   "execution_count": 232,
   "id": "6207895e",
   "metadata": {},
   "outputs": [],
   "source": []
  },
  {
   "cell_type": "code",
   "execution_count": 239,
   "id": "7b9fd6ef",
   "metadata": {},
   "outputs": [],
   "source": [
    "dirac_notation = DiracNotation()\n",
    "res = dirac_notation.multiple_operations(CX * TensorProduct(X, I_2) * TensorProduct(ket_0, ket_0))"
   ]
  },
  {
   "cell_type": "code",
   "execution_count": 240,
   "id": "0c1aec91",
   "metadata": {},
   "outputs": [
    {
     "name": "stdout",
     "output_type": "stream",
     "text": [
      "sqrt(2)*|0>x|0>/2 + sqrt(2)*|1>x|1>/2\n"
     ]
    }
   ],
   "source": [
    "print(res)"
   ]
  },
  {
   "cell_type": "code",
   "execution_count": 159,
   "id": "08f00dba",
   "metadata": {},
   "outputs": [
    {
     "name": "stdout",
     "output_type": "stream",
     "text": [
      "Term |1><0|\n",
      "Term |0>\n",
      "Here\n",
      "<0|0>*|1>\n",
      "Term <0|0>\n",
      "inner product\n",
      "getting 1\n"
     ]
    }
   ],
   "source": [
    "res = dirac_notation.my_simplify_3(B2 * symboliq.Ket0)"
   ]
  },
  {
   "cell_type": "code",
   "execution_count": 160,
   "id": "fefa96f0",
   "metadata": {},
   "outputs": [
    {
     "name": "stdout",
     "output_type": "stream",
     "text": [
      "|1>\n"
     ]
    }
   ],
   "source": [
    "print(res)"
   ]
  },
  {
   "cell_type": "code",
   "execution_count": 125,
   "id": "9cefbf06",
   "metadata": {},
   "outputs": [
    {
     "ename": "TypeError",
     "evalue": "Math expects text, not |0>",
     "output_type": "error",
     "traceback": [
      "\u001b[0;31m---------------------------------------------------------------------------\u001b[0m",
      "\u001b[0;31mTypeError\u001b[0m                                 Traceback (most recent call last)",
      "Cell \u001b[0;32mIn [125], line 1\u001b[0m\n\u001b[0;32m----> 1\u001b[0m display(\u001b[43mMath\u001b[49m\u001b[43m(\u001b[49m\u001b[43mres\u001b[49m\u001b[43m)\u001b[49m)\n",
      "File \u001b[0;32m~/symboliq_venv/lib/python3.8/site-packages/IPython/core/display.py:328\u001b[0m, in \u001b[0;36mDisplayObject.__init__\u001b[0;34m(self, data, url, filename, metadata)\u001b[0m\n\u001b[1;32m    325\u001b[0m     \u001b[38;5;28mself\u001b[39m\u001b[38;5;241m.\u001b[39mmetadata \u001b[38;5;241m=\u001b[39m {}\n\u001b[1;32m    327\u001b[0m \u001b[38;5;28mself\u001b[39m\u001b[38;5;241m.\u001b[39mreload()\n\u001b[0;32m--> 328\u001b[0m \u001b[38;5;28;43mself\u001b[39;49m\u001b[38;5;241;43m.\u001b[39;49m\u001b[43m_check_data\u001b[49m\u001b[43m(\u001b[49m\u001b[43m)\u001b[49m\n",
      "File \u001b[0;32m~/symboliq_venv/lib/python3.8/site-packages/IPython/core/display.py:395\u001b[0m, in \u001b[0;36mTextDisplayObject._check_data\u001b[0;34m(self)\u001b[0m\n\u001b[1;32m    393\u001b[0m \u001b[38;5;28;01mdef\u001b[39;00m \u001b[38;5;21m_check_data\u001b[39m(\u001b[38;5;28mself\u001b[39m):\n\u001b[1;32m    394\u001b[0m     \u001b[38;5;28;01mif\u001b[39;00m \u001b[38;5;28mself\u001b[39m\u001b[38;5;241m.\u001b[39mdata \u001b[38;5;129;01mis\u001b[39;00m \u001b[38;5;129;01mnot\u001b[39;00m \u001b[38;5;28;01mNone\u001b[39;00m \u001b[38;5;129;01mand\u001b[39;00m \u001b[38;5;129;01mnot\u001b[39;00m \u001b[38;5;28misinstance\u001b[39m(\u001b[38;5;28mself\u001b[39m\u001b[38;5;241m.\u001b[39mdata, \u001b[38;5;28mstr\u001b[39m):\n\u001b[0;32m--> 395\u001b[0m         \u001b[38;5;28;01mraise\u001b[39;00m \u001b[38;5;167;01mTypeError\u001b[39;00m(\u001b[38;5;124m\"\u001b[39m\u001b[38;5;132;01m%s\u001b[39;00m\u001b[38;5;124m expects text, not \u001b[39m\u001b[38;5;132;01m%r\u001b[39;00m\u001b[38;5;124m\"\u001b[39m \u001b[38;5;241m%\u001b[39m (\u001b[38;5;28mself\u001b[39m\u001b[38;5;241m.\u001b[39m\u001b[38;5;18m__class__\u001b[39m\u001b[38;5;241m.\u001b[39m\u001b[38;5;18m__name__\u001b[39m, \u001b[38;5;28mself\u001b[39m\u001b[38;5;241m.\u001b[39mdata))\n",
      "\u001b[0;31mTypeError\u001b[0m: Math expects text, not |0>"
     ]
    }
   ],
   "source": [
    "display(Math(res))"
   ]
  },
  {
   "cell_type": "code",
   "execution_count": null,
   "id": "f96793a7",
   "metadata": {},
   "outputs": [],
   "source": []
  }
 ],
 "metadata": {
  "kernelspec": {
   "display_name": "Python 3 (ipykernel)",
   "language": "python",
   "name": "python3"
  },
  "language_info": {
   "codemirror_mode": {
    "name": "ipython",
    "version": 3
   },
   "file_extension": ".py",
   "mimetype": "text/x-python",
   "name": "python",
   "nbconvert_exporter": "python",
   "pygments_lexer": "ipython3",
   "version": "3.8.13"
  }
 },
 "nbformat": 4,
 "nbformat_minor": 5
}
