{
 "cells": [
  {
   "cell_type": "code",
   "execution_count": 1,
   "id": "95554422",
   "metadata": {},
   "outputs": [],
   "source": [
    "from IPython.display import display, Math, HTML\n",
    "from sympy.physics.quantum import TensorProduct\n",
    "from symboliq.dirac_notation import DiracNotation, cx, h, i, ket_0, x, ket_1"
   ]
  },
  {
   "cell_type": "code",
   "execution_count": 5,
   "id": "f4da037f",
   "metadata": {},
   "outputs": [],
   "source": [
    "dirac_notation = DiracNotation(x * ket_0)"
   ]
  },
  {
   "cell_type": "code",
   "execution_count": 6,
   "id": "b06d2314",
   "metadata": {},
   "outputs": [],
   "source": [
    "res = dirac_notation.get_steps()"
   ]
  },
  {
   "cell_type": "code",
   "execution_count": 7,
   "id": "600cebe1",
   "metadata": {},
   "outputs": [
    {
     "name": "stdout",
     "output_type": "stream",
     "text": [
      "(0) (|0><1| + |1><0|)*|0>\n",
      "(1) |0><1|*|0> + |1><0|*|0>\n",
      "(2) |1>\n",
      "\n"
     ]
    }
   ],
   "source": [
    "print(res)"
   ]
  },
  {
   "cell_type": "code",
   "execution_count": 8,
   "id": "e3ebd5c4",
   "metadata": {},
   "outputs": [],
   "source": [
    "res = dirac_notation.get_steps_latex()"
   ]
  },
  {
   "cell_type": "code",
   "execution_count": 9,
   "id": "5204ad04",
   "metadata": {},
   "outputs": [
    {
     "data": {
      "text/latex": [
       "$\\displaystyle (0) \\quad \\left({\\left|0\\right\\rangle }{\\left\\langle 1\\right|} + {\\left|1\\right\\rangle }{\\left\\langle 0\\right|}\\right) {\\left|0\\right\\rangle } \\\\(1) \\quad {\\left|0\\right\\rangle }{\\left\\langle 1\\right|} {\\left|0\\right\\rangle } + {\\left|1\\right\\rangle }{\\left\\langle 0\\right|} {\\left|0\\right\\rangle } \\\\(2) \\quad {\\left|1\\right\\rangle } \\\\$"
      ],
      "text/plain": [
       "<IPython.core.display.Math object>"
      ]
     },
     "execution_count": 9,
     "metadata": {},
     "output_type": "execute_result"
    }
   ],
   "source": [
    "Math(res)"
   ]
  }
 ],
 "metadata": {
  "kernelspec": {
   "display_name": "Python 3 (ipykernel)",
   "language": "python",
   "name": "python3"
  },
  "language_info": {
   "codemirror_mode": {
    "name": "ipython",
    "version": 3
   },
   "file_extension": ".py",
   "mimetype": "text/x-python",
   "name": "python",
   "nbconvert_exporter": "python",
   "pygments_lexer": "ipython3",
   "version": "3.8.13"
  }
 },
 "nbformat": 4,
 "nbformat_minor": 5
}
