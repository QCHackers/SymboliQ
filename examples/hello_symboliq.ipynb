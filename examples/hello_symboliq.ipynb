{
 "cells": [
  {
   "cell_type": "markdown",
   "id": "6f3c2db4",
   "metadata": {},
   "source": [
    "* There is a gap between numerial and symbolic quantum computation\n",
    "* Quirk is actually not that intuitive. You need to be familiar with it since itreally doesn't have a one-to-one correspondence with textbook algorithm \n",
    "\n",
    "\n",
    "\n",
    "Questions:\n",
    "* Are there measurement gates in Sympy?\n",
    "    - Yes\n",
    "* How does one perfom parametrized gates?\n",
    "    - Started manually building Paramterized gates. Next step is to incorporate it into the states function\n",
    "* How do you write braket-notation as input on Jupyter?\n",
    "\n",
    "* How is this different from the Wolfram quantum computing framework?\n",
    "    - The input is similar to what you see in papers and quantum algorithms\n",
    "* How does this differ from the Quantum add-on for the mathematica package?\n",
    "    - That package is not maintained\n",
    "\n"
   ]
  },
  {
   "cell_type": "markdown",
   "id": "111adb48",
   "metadata": {},
   "source": [
    "$\\begin{align} \\mathbf{a} \\cdot \\mathbf{b} = \\sum_{i=1}^n a_i b_i. \\end{align}$"
   ]
  },
  {
   "cell_type": "code",
   "execution_count": 1,
   "id": "ab089970",
   "metadata": {},
   "outputs": [],
   "source": [
    "import sympy\n",
    "import symboliq\n",
    "from sympy import sqrt\n",
    "from sympy import *\n",
    "init_printing()\n",
    "from sympy.physics.quantum.gate import HadamardGate\n",
    "from IPython.display import display\n",
    "from sympy.physics.quantum import TensorProduct\n",
    "from sympy.physics.quantum.qapply import qapply\n",
    "from sympy.physics.quantum.qubit import Qubit, measure_all, measure_all_oneshot\n",
    "from sympy.physics.quantum.gate import CNOT, H, SWAP, CGate, S, T, X,  OneQubitGate\n",
    "from sympy.physics.quantum.operator import (UnitaryOperator, Operator,\n",
    "                                            HermitianOperator)\n",
    "from sympy.physics.quantum.matrixcache import matrix_cache, sqrt2_inv \n",
    "from sympy.physics.quantum.circuitplot import labeller, render_label, Mz, CreateOneQubitGate, CreateCGate, CircuitPlot"
   ]
  },
  {
   "cell_type": "code",
   "execution_count": 2,
   "id": "027a5582",
   "metadata": {},
   "outputs": [
    {
     "data": {
      "text/latex": [
       "$\\displaystyle \\frac{\\sqrt{2} {\\left|00\\right\\rangle }}{2} + \\frac{\\sqrt{2} {\\left|11\\right\\rangle }}{2}$"
      ],
      "text/plain": [
       "√2⋅❘00⟩   √2⋅❘11⟩\n",
       "─────── + ───────\n",
       "   2         2   "
      ]
     },
     "execution_count": 2,
     "metadata": {},
     "output_type": "execute_result"
    }
   ],
   "source": [
    "qapply(HadamardGate(0)*Qubit('1'))\n",
    "# Hadamard on bell state, applied on 2 qubits.\n",
    "psi = 1/sqrt(2)*(Qubit('00')+Qubit('11'))\n",
    "qapply(HadamardGate(0)*HadamardGate(1)*psi)"
   ]
  },
  {
   "cell_type": "code",
   "execution_count": 2,
   "id": "fd961078",
   "metadata": {},
   "outputs": [
    {
     "data": {
      "text/latex": [
       "$\\displaystyle - 1.0 i \\sin{\\left(\\frac{θ}{2} \\right)} {\\left|01\\right\\rangle } + \\cos{\\left(\\frac{θ}{2} \\right)} {\\left|00\\right\\rangle }$"
      ],
      "text/plain": [
       "       ⎛θ⎞           ⎛θ⎞     \n",
       "- ⅈ⋅sin⎜─⎟⋅❘01⟩ + cos⎜─⎟⋅❘00⟩\n",
       "       ⎝2⎠           ⎝2⎠     "
      ]
     },
     "execution_count": 2,
     "metadata": {},
     "output_type": "execute_result"
    }
   ],
   "source": [
    "# Hadamard on bell state, applied on 2 qubits.\n",
    "psi = Qubit('00')\n",
    "gate = symboliq.gates.RXGate(0)\n",
    "gate.symbol = sympy.Symbol('θ')\n",
    "qapply(gate*psi)"
   ]
  },
  {
   "cell_type": "code",
   "execution_count": 3,
   "id": "32bc9663",
   "metadata": {},
   "outputs": [
    {
     "data": {
      "text/latex": [
       "$\\displaystyle \\frac{\\sqrt{2} \\left({\\left|00\\right\\rangle } + {\\left|11\\right\\rangle }\\right)}{2}$"
      ],
      "text/plain": [
       "√2⋅(❘00⟩ + ❘11⟩)\n",
       "────────────────\n",
       "       2        "
      ]
     },
     "execution_count": 3,
     "metadata": {},
     "output_type": "execute_result"
    }
   ],
   "source": [
    "psi"
   ]
  },
  {
   "cell_type": "code",
   "execution_count": 4,
   "id": "9f2c20e5",
   "metadata": {},
   "outputs": [
    {
     "data": {
      "text/latex": [
       "$\\displaystyle {\\left|0\\right\\rangle }$"
      ],
      "text/plain": [
       "❘0⟩"
      ]
     },
     "execution_count": 4,
     "metadata": {},
     "output_type": "execute_result"
    }
   ],
   "source": [
    "Qubit(0)"
   ]
  },
  {
   "cell_type": "code",
   "execution_count": 5,
   "id": "3129441d",
   "metadata": {},
   "outputs": [
    {
     "data": {
      "text/latex": [
       "$\\displaystyle {\\left|0\\right\\rangle } + {\\left|1\\right\\rangle }$"
      ],
      "text/plain": [
       "❘0⟩ + ❘1⟩"
      ]
     },
     "execution_count": 5,
     "metadata": {},
     "output_type": "execute_result"
    }
   ],
   "source": [
    "Qubit(0) + Qubit(1)"
   ]
  },
  {
   "cell_type": "code",
   "execution_count": 6,
   "id": "2ef9bc44",
   "metadata": {},
   "outputs": [
    {
     "data": {
      "text/latex": [
       "$\\displaystyle \\frac{{\\left|0\\right\\rangle }^{2}}{2} + \\frac{\\sqrt{2} {\\left|1\\right\\rangle }}{2}$"
      ],
      "text/plain": [
       "   2         \n",
       "❘0⟩    √2⋅❘1⟩\n",
       "──── + ──────\n",
       " 2       2   "
      ]
     },
     "execution_count": 6,
     "metadata": {},
     "output_type": "execute_result"
    }
   ],
   "source": [
    "(1/sqrt(2)*Qubit(0))**2 + 1/sqrt(2)*Qubit(1)"
   ]
  },
  {
   "cell_type": "code",
   "execution_count": 7,
   "id": "26278ac5",
   "metadata": {},
   "outputs": [
    {
     "ename": "ImportError",
     "evalue": "numpy or matplotlib not available.",
     "output_type": "error",
     "traceback": [
      "\u001b[0;31m---------------------------------------------------------------------------\u001b[0m",
      "\u001b[0;31mImportError\u001b[0m                               Traceback (most recent call last)",
      "Cell \u001b[0;32mIn [7], line 1\u001b[0m\n\u001b[0;32m----> 1\u001b[0m c \u001b[38;5;241m=\u001b[39m \u001b[43mCircuitPlot\u001b[49m\u001b[43m(\u001b[49m\u001b[43mCNOT\u001b[49m\u001b[43m(\u001b[49m\u001b[38;5;241;43m1\u001b[39;49m\u001b[43m,\u001b[49m\u001b[38;5;241;43m0\u001b[39;49m\u001b[43m)\u001b[49m\u001b[38;5;241;43m*\u001b[39;49m\u001b[43mH\u001b[49m\u001b[43m(\u001b[49m\u001b[38;5;241;43m1\u001b[39;49m\u001b[43m)\u001b[49m\u001b[43m,\u001b[49m\u001b[38;5;241;43m2\u001b[39;49m\u001b[43m,\u001b[49m\u001b[43mlabels\u001b[49m\u001b[38;5;241;43m=\u001b[39;49m\u001b[43mlabeller\u001b[49m\u001b[43m(\u001b[49m\u001b[38;5;241;43m2\u001b[39;49m\u001b[43m)\u001b[49m\u001b[43m)\u001b[49m\n",
      "File \u001b[0;32m~/symboliq_venv/lib/python3.8/site-packages/sympy/physics/quantum/circuitplot.py:64\u001b[0m, in \u001b[0;36mCircuitPlot.__init__\u001b[0;34m(self, c, nqubits, **kwargs)\u001b[0m\n\u001b[1;32m     62\u001b[0m \u001b[38;5;28;01mdef\u001b[39;00m \u001b[38;5;21m__init__\u001b[39m(\u001b[38;5;28mself\u001b[39m, c, nqubits, \u001b[38;5;241m*\u001b[39m\u001b[38;5;241m*\u001b[39mkwargs):\n\u001b[1;32m     63\u001b[0m     \u001b[38;5;28;01mif\u001b[39;00m \u001b[38;5;129;01mnot\u001b[39;00m np \u001b[38;5;129;01mor\u001b[39;00m \u001b[38;5;129;01mnot\u001b[39;00m matplotlib:\n\u001b[0;32m---> 64\u001b[0m         \u001b[38;5;28;01mraise\u001b[39;00m \u001b[38;5;167;01mImportError\u001b[39;00m(\u001b[38;5;124m'\u001b[39m\u001b[38;5;124mnumpy or matplotlib not available.\u001b[39m\u001b[38;5;124m'\u001b[39m)\n\u001b[1;32m     65\u001b[0m     \u001b[38;5;28mself\u001b[39m\u001b[38;5;241m.\u001b[39mcircuit \u001b[38;5;241m=\u001b[39m c\n\u001b[1;32m     66\u001b[0m     \u001b[38;5;28mself\u001b[39m\u001b[38;5;241m.\u001b[39mngates \u001b[38;5;241m=\u001b[39m \u001b[38;5;28mlen\u001b[39m(\u001b[38;5;28mself\u001b[39m\u001b[38;5;241m.\u001b[39mcircuit\u001b[38;5;241m.\u001b[39margs)\n",
      "\u001b[0;31mImportError\u001b[0m: numpy or matplotlib not available."
     ]
    }
   ],
   "source": [
    "\n",
    "c = CircuitPlot(CNOT(1,0)*H(1),2,labels=labeller(2))"
   ]
  },
  {
   "cell_type": "code",
   "execution_count": 8,
   "id": "d4ab1041",
   "metadata": {},
   "outputs": [
    {
     "data": {
      "text/latex": [
       "$\\displaystyle {\\left|00\\right\\rangle }$"
      ],
      "text/plain": [
       "❘00⟩"
      ]
     },
     "execution_count": 8,
     "metadata": {},
     "output_type": "execute_result"
    }
   ],
   "source": [
    "# Intial state\n",
    "psi = Qubit(0,0)\n",
    "psi"
   ]
  },
  {
   "cell_type": "code",
   "execution_count": 60,
   "id": "14daa7fb",
   "metadata": {},
   "outputs": [
    {
     "data": {
      "text/latex": [
       "$\\displaystyle \\frac{\\sqrt{2} {\\left|00\\right\\rangle }}{2} + \\frac{\\sqrt{2} {\\left|01\\right\\rangle }}{2}$"
      ],
      "text/plain": [
       "sqrt(2)*|00>/2 + sqrt(2)*|01>/2"
      ]
     },
     "execution_count": 60,
     "metadata": {},
     "output_type": "execute_result"
    }
   ],
   "source": [
    "# After 1st hadamard\n",
    "psi = qapply(HadamardGate(0)*psi)\n",
    "psi"
   ]
  },
  {
   "cell_type": "code",
   "execution_count": 61,
   "id": "0b8f9f7c",
   "metadata": {},
   "outputs": [
    {
     "data": {
      "text/latex": [
       "$\\displaystyle \\frac{\\sqrt{2} {\\left|00\\right\\rangle }}{2} + \\frac{\\sqrt{2} {\\left|11\\right\\rangle }}{2}$"
      ],
      "text/plain": [
       "sqrt(2)*|00>/2 + sqrt(2)*|11>/2"
      ]
     },
     "execution_count": 61,
     "metadata": {},
     "output_type": "execute_result"
    }
   ],
   "source": [
    "# After CNOT\n",
    "psi = qapply(CNOT(0,1)* psi)\n",
    "psi"
   ]
  },
  {
   "cell_type": "code",
   "execution_count": 62,
   "id": "a8b94650",
   "metadata": {},
   "outputs": [
    {
     "data": {
      "text/latex": [
       "$\\displaystyle \\frac{{\\left|00\\right\\rangle }}{2} + \\frac{{\\left|01\\right\\rangle }}{2} + \\frac{{\\left|10\\right\\rangle }}{2} - \\frac{{\\left|11\\right\\rangle }}{2}$"
      ],
      "text/plain": [
       "|00>/2 + |01>/2 + |10>/2 - |11>/2"
      ]
     },
     "execution_count": 62,
     "metadata": {},
     "output_type": "execute_result"
    }
   ],
   "source": [
    "# Apply 2nd Hadamard\n",
    "psi = qapply(H(0)*psi)\n",
    "psi"
   ]
  },
  {
   "cell_type": "code",
   "execution_count": 63,
   "id": "c24d835b",
   "metadata": {},
   "outputs": [
    {
     "data": {
      "text/plain": [
       "[(|00>, 1/4), (|01>, 1/4), (|10>, 1/4), (|11>, 1/4)]"
      ]
     },
     "execution_count": 63,
     "metadata": {},
     "output_type": "execute_result"
    }
   ],
   "source": [
    "# Probability results given the outcomes\n",
    "measure_all(psi)"
   ]
  },
  {
   "cell_type": "code",
   "execution_count": 55,
   "id": "84766ced",
   "metadata": {},
   "outputs": [
    {
     "data": {
      "text/latex": [
       "$\\displaystyle {\\left|00\\right\\rangle }$"
      ],
      "text/plain": [
       "|00>"
      ]
     },
     "execution_count": 55,
     "metadata": {},
     "output_type": "execute_result"
    }
   ],
   "source": [
    "measure_all_oneshot(psi)"
   ]
  },
  {
   "cell_type": "code",
   "execution_count": 24,
   "id": "d3036903",
   "metadata": {},
   "outputs": [],
   "source": [
    "from sympy.physics.quantum.qasm import Qasm"
   ]
  },
  {
   "cell_type": "code",
   "execution_count": 28,
   "id": "60a57db9",
   "metadata": {},
   "outputs": [],
   "source": [
    "q = Qasm('qubit q0', 'qubit q1', 'h q0', 'cnot q1,q0')"
   ]
  },
  {
   "cell_type": "code",
   "execution_count": 29,
   "id": "85707753",
   "metadata": {},
   "outputs": [
    {
     "data": {
      "text/latex": [
       "$\\displaystyle CNOT_{0,1} H_{1}$"
      ],
      "text/plain": [
       "CNOT(0,1)*H(1)"
      ]
     },
     "execution_count": 29,
     "metadata": {},
     "output_type": "execute_result"
    }
   ],
   "source": [
    "q.get_circuit()"
   ]
  },
  {
   "cell_type": "code",
   "execution_count": 45,
   "id": "6323d881",
   "metadata": {},
   "outputs": [
    {
     "data": {
      "image/png": "[encoded data removed]",
      "text/plain": [
       "<Figure size 144x144 with 1 Axes>"
      ]
     },
     "metadata": {},
     "output_type": "display_data"
    }
   ],
   "source": [
    "q.plot()"
   ]
  },
  {
   "cell_type": "code",
   "execution_count": 30,
   "id": "14461886",
   "metadata": {},
   "outputs": [
    {
     "data": {
      "image/png": "[encoded data removed]",
      "text/plain": [
       "<Figure size 144x144 with 1 Axes>"
      ]
     },
     "metadata": {},
     "output_type": "display_data"
    }
   ],
   "source": [
    "c = CircuitPlot(q.get_circuit(),2,labels=labeller(2))"
   ]
  },
  {
   "cell_type": "code",
   "execution_count": 117,
   "id": "dcd1a422",
   "metadata": {
    "scrolled": true
   },
   "outputs": [],
   "source": [
    "def steps(circuit):\n",
    "    psi = Qubit(0,0)\n",
    "    steps = [psi]\n",
    "    for moment in circuit:\n",
    "            for op in moment:\n",
    "                if op.gate == cirq.X:\n",
    "                    psi = qapply(X(op.qubits[0].x)*psi)\n",
    "                    steps.append(psi)\n",
    "                elif op.gate == cirq.H:\n",
    "                    psi = qapply(H(op.qubits[0].x)*psi)\n",
    "                    steps.append(psi)\n",
    "                elif op.gate == cirq.CNOT:\n",
    "                    psi = qapply(CNOT(op.qubits[0].x, op.qubits[1].x)*psi)\n",
    "                    steps.append(psi)\n",
    "                elif isinstance(op.gate, cirq.MeasurementGate):\n",
    "                    psi = measure_all_oneshot(psi)\n",
    "                    steps.append(psi)\n",
    "                else:\n",
    "                    raise ValueError(\"Not implemented\")\n",
    "    return [psi, steps]"
   ]
  },
  {
   "cell_type": "code",
   "execution_count": 120,
   "id": "16ac6d40",
   "metadata": {},
   "outputs": [
    {
     "name": "stdout",
     "output_type": "stream",
     "text": [
      "Circuit:\n"
     ]
    },
    {
     "data": {
      "text/latex": [
       "$\\displaystyle {\\left|00\\right\\rangle }$"
      ],
      "text/plain": [
       "|00>"
      ]
     },
     "metadata": {},
     "output_type": "display_data"
    },
    {
     "data": {
      "text/latex": [
       "$\\displaystyle \\frac{\\sqrt{2} {\\left|00\\right\\rangle }}{2} + \\frac{\\sqrt{2} {\\left|01\\right\\rangle }}{2}$"
      ],
      "text/plain": [
       "sqrt(2)*|00>/2 + sqrt(2)*|01>/2"
      ]
     },
     "metadata": {},
     "output_type": "display_data"
    },
    {
     "data": {
      "text/latex": [
       "$\\displaystyle \\frac{\\sqrt{2} {\\left|00\\right\\rangle }}{2} + \\frac{\\sqrt{2} {\\left|11\\right\\rangle }}{2}$"
      ],
      "text/plain": [
       "sqrt(2)*|00>/2 + sqrt(2)*|11>/2"
      ]
     },
     "metadata": {},
     "output_type": "display_data"
    },
    {
     "data": {
      "text/latex": [
       "$\\displaystyle \\frac{{\\left|00\\right\\rangle }}{2} + \\frac{{\\left|01\\right\\rangle }}{2} + \\frac{{\\left|10\\right\\rangle }}{2} - \\frac{{\\left|11\\right\\rangle }}{2}$"
      ],
      "text/plain": [
       "|00>/2 + |01>/2 + |10>/2 - |11>/2"
      ]
     },
     "metadata": {},
     "output_type": "display_data"
    },
    {
     "data": {
      "text/latex": [
       "$\\displaystyle {\\left|11\\right\\rangle }$"
      ],
      "text/plain": [
       "|11>"
      ]
     },
     "metadata": {},
     "output_type": "display_data"
    }
   ],
   "source": [
    "qubits = cirq.LineQubit.range(3)\n",
    "\n",
    "circuit = cirq.Circuit(\n",
    "    cirq.H(qubits[0]),  \n",
    "    cirq.CNOT(qubits[0], qubits[1]),\n",
    "    cirq.H(qubits[0]),\n",
    "    cirq.measure(qubits[0])\n",
    ")\n",
    "print(\"Circuit:\")\n",
    "ret = steps(circuit)\n",
    "\n",
    "steps_ret = ret[1]\n",
    "\n",
    "for step in steps_ret:\n",
    "    display(step)"
   ]
  },
  {
   "cell_type": "code",
   "execution_count": 29,
   "id": "92804f73",
   "metadata": {},
   "outputs": [
    {
     "ename": "TypeError",
     "evalue": "can't convert expression to float",
     "output_type": "error",
     "traceback": [
      "\u001b[0;31m---------------------------------------------------------------------------\u001b[0m",
      "\u001b[0;31mTypeError\u001b[0m                                 Traceback (most recent call last)",
      "Input \u001b[0;32mIn [29]\u001b[0m, in \u001b[0;36m<cell line: 2>\u001b[0;34m()\u001b[0m\n\u001b[1;32m      1\u001b[0m _normalized \u001b[38;5;241m=\u001b[39m \u001b[38;5;28;01mTrue\u001b[39;00m\n\u001b[0;32m----> 2\u001b[0m \u001b[43mmatrix_cache\u001b[49m\u001b[38;5;241;43m.\u001b[39;49m\u001b[43mcache_matrix\u001b[49m\u001b[43m(\u001b[49m\u001b[38;5;124;43m'\u001b[39;49m\u001b[38;5;124;43mH2\u001b[39;49m\u001b[38;5;124;43m'\u001b[39;49m\u001b[43m,\u001b[49m\u001b[43m \u001b[49m\u001b[43msqrt2_inv\u001b[49m\u001b[38;5;241;43m*\u001b[39;49m\u001b[43mMatrix\u001b[49m\u001b[43m(\u001b[49m\u001b[43m[\u001b[49m\u001b[43m[\u001b[49m\u001b[43msympy\u001b[49m\u001b[38;5;241;43m.\u001b[39;49m\u001b[43mexp\u001b[49m\u001b[43m(\u001b[49m\u001b[38;5;241;43m-\u001b[39;49m\u001b[38;5;241;43m1\u001b[39;49m\u001b[43mj\u001b[49m\u001b[43m \u001b[49m\u001b[38;5;241;43m*\u001b[39;49m\u001b[43m \u001b[49m\u001b[43mx\u001b[49m\u001b[38;5;241;43m/\u001b[39;49m\u001b[38;5;241;43m2\u001b[39;49m\u001b[43m)\u001b[49m\u001b[43m,\u001b[49m\u001b[43m \u001b[49m\u001b[38;5;241;43m1\u001b[39;49m\u001b[43m]\u001b[49m\u001b[43m,\u001b[49m\u001b[43m \u001b[49m\u001b[43m[\u001b[49m\u001b[38;5;241;43m1\u001b[39;49m\u001b[43m,\u001b[49m\u001b[43m \u001b[49m\u001b[38;5;241;43m-\u001b[39;49m\u001b[38;5;241;43m1\u001b[39;49m\u001b[43m]\u001b[49m\u001b[43m]\u001b[49m\u001b[43m)\u001b[49m\u001b[43m)\u001b[49m\n\u001b[1;32m      3\u001b[0m \u001b[38;5;28;01mclass\u001b[39;00m \u001b[38;5;21;01mRYGate\u001b[39;00m(HermitianOperator, OneQubitGate):\n\u001b[1;32m      4\u001b[0m     \u001b[38;5;124;03m\"\"\"The single qubit Hadamard gate.\u001b[39;00m\n\u001b[1;32m      5\u001b[0m \u001b[38;5;124;03m    Parameters\u001b[39;00m\n\u001b[1;32m      6\u001b[0m \u001b[38;5;124;03m    ----------\u001b[39;00m\n\u001b[0;32m   (...)\u001b[0m\n\u001b[1;32m     20\u001b[0m \u001b[38;5;124;03m    sqrt(2)*|00>/2 + sqrt(2)*|11>/2\u001b[39;00m\n\u001b[1;32m     21\u001b[0m \u001b[38;5;124;03m    \"\"\"\u001b[39;00m\n",
      "File \u001b[0;32m~/superstaq_venv/lib/python3.8/site-packages/sympy/physics/quantum/matrixcache.py:38\u001b[0m, in \u001b[0;36mMatrixCache.cache_matrix\u001b[0;34m(self, name, m)\u001b[0m\n\u001b[1;32m     36\u001b[0m     \u001b[38;5;28;01mpass\u001b[39;00m\n\u001b[1;32m     37\u001b[0m \u001b[38;5;28;01mtry\u001b[39;00m:\n\u001b[0;32m---> 38\u001b[0m     \u001b[38;5;28;43mself\u001b[39;49m\u001b[38;5;241;43m.\u001b[39;49m\u001b[43m_numpy_matrix\u001b[49m\u001b[43m(\u001b[49m\u001b[43mname\u001b[49m\u001b[43m,\u001b[49m\u001b[43m \u001b[49m\u001b[43mm\u001b[49m\u001b[43m)\u001b[49m\n\u001b[1;32m     39\u001b[0m \u001b[38;5;28;01mexcept\u001b[39;00m \u001b[38;5;167;01mImportError\u001b[39;00m:\n\u001b[1;32m     40\u001b[0m     \u001b[38;5;28;01mpass\u001b[39;00m\n",
      "File \u001b[0;32m~/superstaq_venv/lib/python3.8/site-packages/sympy/physics/quantum/matrixcache.py:71\u001b[0m, in \u001b[0;36mMatrixCache._numpy_matrix\u001b[0;34m(self, name, m)\u001b[0m\n\u001b[1;32m     70\u001b[0m \u001b[38;5;28;01mdef\u001b[39;00m \u001b[38;5;21m_numpy_matrix\u001b[39m(\u001b[38;5;28mself\u001b[39m, name, m):\n\u001b[0;32m---> 71\u001b[0m     m \u001b[38;5;241m=\u001b[39m \u001b[43mto_numpy\u001b[49m\u001b[43m(\u001b[49m\u001b[43mm\u001b[49m\u001b[43m,\u001b[49m\u001b[43m \u001b[49m\u001b[43mdtype\u001b[49m\u001b[38;5;241;43m=\u001b[39;49m\u001b[38;5;28;43mself\u001b[39;49m\u001b[38;5;241;43m.\u001b[39;49m\u001b[43mdtype\u001b[49m\u001b[43m)\u001b[49m\n\u001b[1;32m     72\u001b[0m     \u001b[38;5;28mself\u001b[39m\u001b[38;5;241m.\u001b[39m_store_matrix(name, \u001b[38;5;124m'\u001b[39m\u001b[38;5;124mnumpy\u001b[39m\u001b[38;5;124m'\u001b[39m, m)\n",
      "File \u001b[0;32m~/superstaq_venv/lib/python3.8/site-packages/sympy/physics/quantum/matrixutils.py:102\u001b[0m, in \u001b[0;36mto_numpy\u001b[0;34m(m, **options)\u001b[0m\n\u001b[1;32m    100\u001b[0m dtype \u001b[38;5;241m=\u001b[39m options\u001b[38;5;241m.\u001b[39mget(\u001b[38;5;124m'\u001b[39m\u001b[38;5;124mdtype\u001b[39m\u001b[38;5;124m'\u001b[39m, \u001b[38;5;124m'\u001b[39m\u001b[38;5;124mcomplex\u001b[39m\u001b[38;5;124m'\u001b[39m)\n\u001b[1;32m    101\u001b[0m \u001b[38;5;28;01mif\u001b[39;00m \u001b[38;5;28misinstance\u001b[39m(m, (MatrixBase, Expr)):\n\u001b[0;32m--> 102\u001b[0m     \u001b[38;5;28;01mreturn\u001b[39;00m \u001b[43msympy_to_numpy\u001b[49m\u001b[43m(\u001b[49m\u001b[43mm\u001b[49m\u001b[43m,\u001b[49m\u001b[43m \u001b[49m\u001b[43mdtype\u001b[49m\u001b[38;5;241;43m=\u001b[39;49m\u001b[43mdtype\u001b[49m\u001b[43m)\u001b[49m\n\u001b[1;32m    103\u001b[0m \u001b[38;5;28;01melif\u001b[39;00m \u001b[38;5;28misinstance\u001b[39m(m, numpy_ndarray):\n\u001b[1;32m    104\u001b[0m     \u001b[38;5;28;01mreturn\u001b[39;00m m\n",
      "File \u001b[0;32m~/superstaq_venv/lib/python3.8/site-packages/sympy/physics/quantum/matrixutils.py:55\u001b[0m, in \u001b[0;36msympy_to_numpy\u001b[0;34m(m, **options)\u001b[0m\n\u001b[1;32m     53\u001b[0m dtype \u001b[38;5;241m=\u001b[39m options\u001b[38;5;241m.\u001b[39mget(\u001b[38;5;124m'\u001b[39m\u001b[38;5;124mdtype\u001b[39m\u001b[38;5;124m'\u001b[39m, \u001b[38;5;124m'\u001b[39m\u001b[38;5;124mcomplex\u001b[39m\u001b[38;5;124m'\u001b[39m)\n\u001b[1;32m     54\u001b[0m \u001b[38;5;28;01mif\u001b[39;00m \u001b[38;5;28misinstance\u001b[39m(m, MatrixBase):\n\u001b[0;32m---> 55\u001b[0m     \u001b[38;5;28;01mreturn\u001b[39;00m \u001b[43mnp\u001b[49m\u001b[38;5;241;43m.\u001b[39;49m\u001b[43mmatrix\u001b[49m\u001b[43m(\u001b[49m\u001b[43mm\u001b[49m\u001b[38;5;241;43m.\u001b[39;49m\u001b[43mtolist\u001b[49m\u001b[43m(\u001b[49m\u001b[43m)\u001b[49m\u001b[43m,\u001b[49m\u001b[43m \u001b[49m\u001b[43mdtype\u001b[49m\u001b[38;5;241;43m=\u001b[39;49m\u001b[43mdtype\u001b[49m\u001b[43m)\u001b[49m\n\u001b[1;32m     56\u001b[0m \u001b[38;5;28;01melif\u001b[39;00m \u001b[38;5;28misinstance\u001b[39m(m, Expr):\n\u001b[1;32m     57\u001b[0m     \u001b[38;5;28;01mif\u001b[39;00m m\u001b[38;5;241m.\u001b[39mis_Number \u001b[38;5;129;01mor\u001b[39;00m m\u001b[38;5;241m.\u001b[39mis_NumberSymbol \u001b[38;5;129;01mor\u001b[39;00m m \u001b[38;5;241m==\u001b[39m I:\n",
      "File \u001b[0;32m~/superstaq_venv/lib/python3.8/site-packages/numpy/matrixlib/defmatrix.py:145\u001b[0m, in \u001b[0;36mmatrix.__new__\u001b[0;34m(subtype, data, dtype, copy)\u001b[0m\n\u001b[1;32m    142\u001b[0m     data \u001b[38;5;241m=\u001b[39m _convert_from_string(data)\n\u001b[1;32m    144\u001b[0m \u001b[38;5;66;03m# now convert data to an array\u001b[39;00m\n\u001b[0;32m--> 145\u001b[0m arr \u001b[38;5;241m=\u001b[39m \u001b[43mN\u001b[49m\u001b[38;5;241;43m.\u001b[39;49m\u001b[43marray\u001b[49m\u001b[43m(\u001b[49m\u001b[43mdata\u001b[49m\u001b[43m,\u001b[49m\u001b[43m \u001b[49m\u001b[43mdtype\u001b[49m\u001b[38;5;241;43m=\u001b[39;49m\u001b[43mdtype\u001b[49m\u001b[43m,\u001b[49m\u001b[43m \u001b[49m\u001b[43mcopy\u001b[49m\u001b[38;5;241;43m=\u001b[39;49m\u001b[43mcopy\u001b[49m\u001b[43m)\u001b[49m\n\u001b[1;32m    146\u001b[0m ndim \u001b[38;5;241m=\u001b[39m arr\u001b[38;5;241m.\u001b[39mndim\n\u001b[1;32m    147\u001b[0m shape \u001b[38;5;241m=\u001b[39m arr\u001b[38;5;241m.\u001b[39mshape\n",
      "File \u001b[0;32m~/superstaq_venv/lib/python3.8/site-packages/sympy/core/expr.py:364\u001b[0m, in \u001b[0;36mExpr.__complex__\u001b[0;34m(self)\u001b[0m\n\u001b[1;32m    362\u001b[0m result \u001b[38;5;241m=\u001b[39m \u001b[38;5;28mself\u001b[39m\u001b[38;5;241m.\u001b[39mevalf()\n\u001b[1;32m    363\u001b[0m re, im \u001b[38;5;241m=\u001b[39m result\u001b[38;5;241m.\u001b[39mas_real_imag()\n\u001b[0;32m--> 364\u001b[0m \u001b[38;5;28;01mreturn\u001b[39;00m \u001b[38;5;28mcomplex\u001b[39m(\u001b[38;5;28;43mfloat\u001b[39;49m\u001b[43m(\u001b[49m\u001b[43mre\u001b[49m\u001b[43m)\u001b[49m, \u001b[38;5;28mfloat\u001b[39m(im))\n",
      "File \u001b[0;32m~/superstaq_venv/lib/python3.8/site-packages/sympy/core/expr.py:359\u001b[0m, in \u001b[0;36mExpr.__float__\u001b[0;34m(self)\u001b[0m\n\u001b[1;32m    357\u001b[0m \u001b[38;5;28;01mif\u001b[39;00m result\u001b[38;5;241m.\u001b[39mis_number \u001b[38;5;129;01mand\u001b[39;00m result\u001b[38;5;241m.\u001b[39mas_real_imag()[\u001b[38;5;241m1\u001b[39m]:\n\u001b[1;32m    358\u001b[0m     \u001b[38;5;28;01mraise\u001b[39;00m \u001b[38;5;167;01mTypeError\u001b[39;00m(\u001b[38;5;124m\"\u001b[39m\u001b[38;5;124mcan\u001b[39m\u001b[38;5;124m'\u001b[39m\u001b[38;5;124mt convert complex to float\u001b[39m\u001b[38;5;124m\"\u001b[39m)\n\u001b[0;32m--> 359\u001b[0m \u001b[38;5;28;01mraise\u001b[39;00m \u001b[38;5;167;01mTypeError\u001b[39;00m(\u001b[38;5;124m\"\u001b[39m\u001b[38;5;124mcan\u001b[39m\u001b[38;5;124m'\u001b[39m\u001b[38;5;124mt convert expression to float\u001b[39m\u001b[38;5;124m\"\u001b[39m)\n",
      "\u001b[0;31mTypeError\u001b[0m: can't convert expression to float"
     ]
    }
   ],
   "source": [
    "_normalized = True\n",
    "matrix_cache.cache_matrix('H2', sqrt2_inv*Matrix([[sympy.exp(-1j * x/2), 1], [1, -1]]))\n",
    "class RYGate(HermitianOperator, OneQubitGate):\n",
    "    \"\"\"The single qubit Hadamard gate.\n",
    "    Parameters\n",
    "    ----------\n",
    "    target : int\n",
    "        The target qubit this gate will apply to.\n",
    "    Examples\n",
    "    ========\n",
    "    >>> from sympy import sqrt\n",
    "    >>> from sympy.physics.quantum.qubit import Qubit\n",
    "    >>> from sympy.physics.quantum.gate import HadamardGate\n",
    "    >>> from sympy.physics.quantum.qapply import qapply\n",
    "    >>> qapply(HadamardGate(0)*Qubit('1'))\n",
    "    sqrt(2)*|0>/2 - sqrt(2)*|1>/2\n",
    "    >>> # Hadamard on bell state, applied on 2 qubits.\n",
    "    >>> psi = 1/sqrt(2)*(Qubit('00')+Qubit('11'))\n",
    "    >>> qapply(HadamardGate(0)*HadamardGate(1)*psi)\n",
    "    sqrt(2)*|00>/2 + sqrt(2)*|11>/2\n",
    "    \"\"\"\n",
    "    gate_name = 'H'\n",
    "    gate_name_latex = 'H'\n",
    "\n",
    "    def get_target_matrix(self, format='sympy'):\n",
    "        if _normalized:\n",
    "            return matrix_cache.get_matrix('H2', format)\n",
    "        else:\n",
    "            return matrix_cache.get_matrix('Hsqrt2', format)\n",
    "\n",
    "    def _eval_commutator_XGate(self, other, **hints):\n",
    "        return I*sqrt(2)*YGate(self.targets[0])\n",
    "\n",
    "    def _eval_commutator_YGate(self, other, **hints):\n",
    "        return I*sqrt(2)*(ZGate(self.targets[0]) - XGate(self.targets[0]))\n",
    "\n",
    "    def _eval_commutator_ZGate(self, other, **hints):\n",
    "        return -I*sqrt(2)*YGate(self.targets[0])\n",
    "\n",
    "    def _eval_anticommutator_XGate(self, other, **hints):\n",
    "        return sqrt(2)*IdentityGate(self.targets[0])\n",
    "\n",
    "    def _eval_anticommutator_YGate(self, other, **hints):\n",
    "        return _S.Zero\n",
    "\n",
    "    def _eval_anticommutator_ZGate(self, other, **hints):\n",
    "        return sqrt(2)*IdentityGate(self.targets[0])"
   ]
  },
  {
   "cell_type": "code",
   "execution_count": 30,
   "id": "872dab1a",
   "metadata": {},
   "outputs": [
    {
     "data": {
      "image/png": "[encoded data removed]",
      "text/latex": [
       "$\\displaystyle \\frac{\\sqrt{2} {\\left|01\\right\\rangle }}{2} + \\frac{\\sqrt{2} e^{- 0.5 i x} {\\left|00\\right\\rangle }}{2}$"
      ],
      "text/plain": [
       "              -0.5⋅ⅈ⋅x     \n",
       "√2⋅❘01⟩   √2⋅ℯ        ⋅❘00⟩\n",
       "─────── + ─────────────────\n",
       "   2              2        "
      ]
     },
     "execution_count": 30,
     "metadata": {},
     "output_type": "execute_result"
    }
   ],
   "source": [
    "psi = Qubit(0,0)\n",
    "qapply(RYGate(0)*psi)"
   ]
  },
  {
   "cell_type": "code",
   "execution_count": 15,
   "id": "7e245878",
   "metadata": {},
   "outputs": [],
   "source": [
    "x, y, z = symbols(\"x y z\")\n",
    "expr = cos(x) + 1"
   ]
  },
  {
   "cell_type": "code",
   "execution_count": 16,
   "id": "6eb03b81",
   "metadata": {},
   "outputs": [
    {
     "data": {
      "image/png": "[encoded data removed]",
      "text/latex": [
       "$\\displaystyle \\cos{\\left(x \\right)} + 1$"
      ],
      "text/plain": [
       "cos(x) + 1"
      ]
     },
     "execution_count": 16,
     "metadata": {},
     "output_type": "execute_result"
    }
   ],
   "source": [
    "expr"
   ]
  },
  {
   "cell_type": "code",
   "execution_count": 28,
   "id": "1b617d7f",
   "metadata": {},
   "outputs": [
    {
     "data": {
      "image/png": "[encoded data removed]",
      "text/latex": [
       "$\\displaystyle e^{- 0.5 i x}$"
      ],
      "text/plain": [
       " -0.5⋅ⅈ⋅x\n",
       "ℯ        "
      ]
     },
     "execution_count": 28,
     "metadata": {},
     "output_type": "execute_result"
    }
   ],
   "source": [
    "sympy.exp(-1j * x/2)"
   ]
  },
  {
   "cell_type": "code",
   "execution_count": 48,
   "id": "95833cbf",
   "metadata": {},
   "outputs": [
    {
     "data": {
      "text/latex": [
       "$\\displaystyle \\left[\\begin{matrix}1\\\\0\\end{matrix}\\right]$"
      ],
      "text/plain": [
       "⎡1⎤\n",
       "⎢ ⎥\n",
       "⎣0⎦"
      ]
     },
     "execution_count": 48,
     "metadata": {},
     "output_type": "execute_result"
    }
   ],
   "source": [
    "psi0_matrix = Matrix([[1], [0]])\n",
    "psi0_matrix"
   ]
  },
  {
   "cell_type": "code",
   "execution_count": 53,
   "id": "48d1f8ca",
   "metadata": {},
   "outputs": [
    {
     "data": {
      "text/latex": [
       "$\\displaystyle \\left[\\begin{matrix}1\\\\0\\\\0\\\\0\\end{matrix}\\right]$"
      ],
      "text/plain": [
       "⎡1⎤\n",
       "⎢ ⎥\n",
       "⎢0⎥\n",
       "⎢ ⎥\n",
       "⎢0⎥\n",
       "⎢ ⎥\n",
       "⎣0⎦"
      ]
     },
     "execution_count": 53,
     "metadata": {},
     "output_type": "execute_result"
    }
   ],
   "source": [
    "psi00_matrix = Matrix([[1], [0], [0], [0]])\n",
    "psi00_matrix"
   ]
  },
  {
   "cell_type": "code",
   "execution_count": 42,
   "id": "09b1205b",
   "metadata": {},
   "outputs": [
    {
     "data": {
      "text/latex": [
       "$\\displaystyle \\left[\\begin{matrix}e^{- 0.5 i x} & 0\\\\0 & e^{0.5 i x}\\end{matrix}\\right]$"
      ],
      "text/plain": [
       "⎡ -0.5⋅ⅈ⋅x          ⎤\n",
       "⎢ℯ             0    ⎥\n",
       "⎢                   ⎥\n",
       "⎢            0.5⋅ⅈ⋅x⎥\n",
       "⎣    0      ℯ       ⎦"
      ]
     },
     "execution_count": 42,
     "metadata": {},
     "output_type": "execute_result"
    }
   ],
   "source": [
    "rz = Matrix([[sympy.exp(-1j * x/2), 0], [0, sympy.exp(1j * x/2)]]) \n",
    "rz"
   ]
  },
  {
   "cell_type": "code",
   "execution_count": 44,
   "id": "575614eb",
   "metadata": {},
   "outputs": [
    {
     "data": {
      "text/latex": [
       "$\\displaystyle \\left[\\begin{matrix}\\cos{\\left(\\frac{x}{2} \\right)} & - \\sin{\\left(\\frac{x}{2} \\right)}\\\\\\sin{\\left(\\frac{x}{2} \\right)} & \\cos{\\left(\\frac{x}{2} \\right)}\\end{matrix}\\right]$"
      ],
      "text/plain": [
       "⎡   ⎛x⎞      ⎛x⎞⎤\n",
       "⎢cos⎜─⎟  -sin⎜─⎟⎥\n",
       "⎢   ⎝2⎠      ⎝2⎠⎥\n",
       "⎢               ⎥\n",
       "⎢   ⎛x⎞     ⎛x⎞ ⎥\n",
       "⎢sin⎜─⎟  cos⎜─⎟ ⎥\n",
       "⎣   ⎝2⎠     ⎝2⎠ ⎦"
      ]
     },
     "execution_count": 44,
     "metadata": {},
     "output_type": "execute_result"
    }
   ],
   "source": [
    "ry = Matrix([[sympy.cos(x/2), -1*sympy.sin(x/2)], [sympy.sin(x/2), sympy.cos(x/2)]]) \n",
    "ry"
   ]
  },
  {
   "cell_type": "code",
   "execution_count": 61,
   "id": "5965860f",
   "metadata": {},
   "outputs": [],
   "source": [
    "i = Matrix([[1, 0], [0,1]]) "
   ]
  },
  {
   "cell_type": "code",
   "execution_count": 131,
   "id": "6fdbb80b",
   "metadata": {},
   "outputs": [],
   "source": [
    "ry01 = TensorProduct(ry, i)"
   ]
  },
  {
   "cell_type": "code",
   "execution_count": 132,
   "id": "931678cb",
   "metadata": {},
   "outputs": [
    {
     "data": {
      "text/latex": [
       "$\\displaystyle \\left[\\begin{matrix}\\cos{\\left(\\frac{x}{2} \\right)} & 0 & - \\sin{\\left(\\frac{x}{2} \\right)} & 0\\\\0 & \\cos{\\left(\\frac{x}{2} \\right)} & 0 & - \\sin{\\left(\\frac{x}{2} \\right)}\\\\\\sin{\\left(\\frac{x}{2} \\right)} & 0 & \\cos{\\left(\\frac{x}{2} \\right)} & 0\\\\0 & \\sin{\\left(\\frac{x}{2} \\right)} & 0 & \\cos{\\left(\\frac{x}{2} \\right)}\\end{matrix}\\right]$"
      ],
      "text/plain": [
       "⎡   ⎛x⎞              ⎛x⎞         ⎤\n",
       "⎢cos⎜─⎟    0     -sin⎜─⎟     0   ⎥\n",
       "⎢   ⎝2⎠              ⎝2⎠         ⎥\n",
       "⎢                                ⎥\n",
       "⎢           ⎛x⎞               ⎛x⎞⎥\n",
       "⎢  0     cos⎜─⎟     0     -sin⎜─⎟⎥\n",
       "⎢           ⎝2⎠               ⎝2⎠⎥\n",
       "⎢                                ⎥\n",
       "⎢   ⎛x⎞             ⎛x⎞          ⎥\n",
       "⎢sin⎜─⎟    0     cos⎜─⎟      0   ⎥\n",
       "⎢   ⎝2⎠             ⎝2⎠          ⎥\n",
       "⎢                                ⎥\n",
       "⎢           ⎛x⎞              ⎛x⎞ ⎥\n",
       "⎢  0     sin⎜─⎟     0     cos⎜─⎟ ⎥\n",
       "⎣           ⎝2⎠              ⎝2⎠ ⎦"
      ]
     },
     "execution_count": 132,
     "metadata": {},
     "output_type": "execute_result"
    }
   ],
   "source": [
    "ry01"
   ]
  },
  {
   "cell_type": "code",
   "execution_count": 133,
   "id": "58424a2f",
   "metadata": {},
   "outputs": [
    {
     "data": {
      "text/latex": [
       "$\\displaystyle \\left[\\begin{matrix}e^{- 0.5 i x}\\\\0\\end{matrix}\\right]$"
      ],
      "text/plain": [
       "⎡ -0.5⋅ⅈ⋅x⎤\n",
       "⎢ℯ        ⎥\n",
       "⎢         ⎥\n",
       "⎣    0    ⎦"
      ]
     },
     "execution_count": 133,
     "metadata": {},
     "output_type": "execute_result"
    }
   ],
   "source": [
    "rz * psi0_matrix"
   ]
  },
  {
   "cell_type": "code",
   "execution_count": 134,
   "id": "517c231d",
   "metadata": {},
   "outputs": [
    {
     "data": {
      "text/latex": [
       "$\\displaystyle \\left[\\begin{matrix}0 & 1\\\\1 & 0\\end{matrix}\\right]$"
      ],
      "text/plain": [
       "⎡0  1⎤\n",
       "⎢    ⎥\n",
       "⎣1  0⎦"
      ]
     },
     "execution_count": 134,
     "metadata": {},
     "output_type": "execute_result"
    }
   ],
   "source": [
    "CNOT(0, 1).get_target_matrix()"
   ]
  },
  {
   "cell_type": "code",
   "execution_count": 135,
   "id": "1cc6ac87",
   "metadata": {},
   "outputs": [
    {
     "data": {
      "text/latex": [
       "$\\displaystyle \\left[\\begin{matrix}1 & 0 & 0 & 0\\\\0 & 0 & 0 & 1\\\\0 & 0 & 1 & 0\\\\0 & 1 & 0 & 0\\end{matrix}\\right]$"
      ],
      "text/plain": [
       "⎡1  0  0  0⎤\n",
       "⎢          ⎥\n",
       "⎢0  0  0  1⎥\n",
       "⎢          ⎥\n",
       "⎢0  0  1  0⎥\n",
       "⎢          ⎥\n",
       "⎣0  1  0  0⎦"
      ]
     },
     "execution_count": 135,
     "metadata": {},
     "output_type": "execute_result"
    }
   ],
   "source": [
    "cnot01 = Matrix([[1, 0, 0, 0], [0, 0, 0, 1], [0, 0, 1, 0], [0, 1, 0, 0]])\n",
    "cnot01"
   ]
  },
  {
   "cell_type": "code",
   "execution_count": 136,
   "id": "f7b9d35d",
   "metadata": {},
   "outputs": [
    {
     "data": {
      "text/latex": [
       "$\\displaystyle \\left[\\begin{matrix}\\cos{\\left(\\frac{x}{2} \\right)}\\\\\\sin{\\left(\\frac{x}{2} \\right)}\\end{matrix}\\right]$"
      ],
      "text/plain": [
       "⎡   ⎛x⎞⎤\n",
       "⎢cos⎜─⎟⎥\n",
       "⎢   ⎝2⎠⎥\n",
       "⎢      ⎥\n",
       "⎢   ⎛x⎞⎥\n",
       "⎢sin⎜─⎟⎥\n",
       "⎣   ⎝2⎠⎦"
      ]
     },
     "execution_count": 136,
     "metadata": {},
     "output_type": "execute_result"
    }
   ],
   "source": [
    "ry * psi0_matrix"
   ]
  },
  {
   "cell_type": "code",
   "execution_count": 137,
   "id": "e406ba77",
   "metadata": {},
   "outputs": [
    {
     "data": {
      "text/latex": [
       "$\\displaystyle \\left[\\begin{matrix}\\cos{\\left(\\frac{x}{2} \\right)}\\\\0\\\\\\sin{\\left(\\frac{x}{2} \\right)}\\\\0\\end{matrix}\\right]$"
      ],
      "text/plain": [
       "⎡   ⎛x⎞⎤\n",
       "⎢cos⎜─⎟⎥\n",
       "⎢   ⎝2⎠⎥\n",
       "⎢      ⎥\n",
       "⎢  0   ⎥\n",
       "⎢      ⎥\n",
       "⎢   ⎛x⎞⎥\n",
       "⎢sin⎜─⎟⎥\n",
       "⎢   ⎝2⎠⎥\n",
       "⎢      ⎥\n",
       "⎣  0   ⎦"
      ]
     },
     "execution_count": 137,
     "metadata": {},
     "output_type": "execute_result"
    }
   ],
   "source": [
    "ry01 * psi00_matrix"
   ]
  },
  {
   "cell_type": "code",
   "execution_count": 138,
   "id": "e839acfe",
   "metadata": {},
   "outputs": [
    {
     "data": {
      "text/latex": [
       "$\\displaystyle \\left[\\begin{matrix}\\cos{\\left(\\frac{x}{2} \\right)}\\\\0\\\\\\sin{\\left(\\frac{x}{2} \\right)}\\\\0\\end{matrix}\\right]$"
      ],
      "text/plain": [
       "⎡   ⎛x⎞⎤\n",
       "⎢cos⎜─⎟⎥\n",
       "⎢   ⎝2⎠⎥\n",
       "⎢      ⎥\n",
       "⎢  0   ⎥\n",
       "⎢      ⎥\n",
       "⎢   ⎛x⎞⎥\n",
       "⎢sin⎜─⎟⎥\n",
       "⎢   ⎝2⎠⎥\n",
       "⎢      ⎥\n",
       "⎣  0   ⎦"
      ]
     },
     "execution_count": 138,
     "metadata": {},
     "output_type": "execute_result"
    }
   ],
   "source": [
    "cnot01 * ry01 * psi00_matrix"
   ]
  },
  {
   "cell_type": "code",
   "execution_count": 139,
   "id": "9e5e94f6",
   "metadata": {
    "scrolled": true
   },
   "outputs": [
    {
     "data": {
      "text/latex": [
       "$\\displaystyle \\left[\\begin{matrix}- \\sin^{2}{\\left(\\frac{x}{2} \\right)} + \\cos^{2}{\\left(\\frac{x}{2} \\right)}\\\\0\\\\2 \\sin{\\left(\\frac{x}{2} \\right)} \\cos{\\left(\\frac{x}{2} \\right)}\\\\0\\end{matrix}\\right]$"
      ],
      "text/plain": [
       "⎡     2⎛x⎞      2⎛x⎞⎤\n",
       "⎢- sin ⎜─⎟ + cos ⎜─⎟⎥\n",
       "⎢      ⎝2⎠       ⎝2⎠⎥\n",
       "⎢                   ⎥\n",
       "⎢         0         ⎥\n",
       "⎢                   ⎥\n",
       "⎢       ⎛x⎞    ⎛x⎞  ⎥\n",
       "⎢  2⋅sin⎜─⎟⋅cos⎜─⎟  ⎥\n",
       "⎢       ⎝2⎠    ⎝2⎠  ⎥\n",
       "⎢                   ⎥\n",
       "⎣         0         ⎦"
      ]
     },
     "execution_count": 139,
     "metadata": {},
     "output_type": "execute_result"
    }
   ],
   "source": [
    "psi = ry01 * cnot01 * ry01 * psi00_matrix\n",
    "psi"
   ]
  },
  {
   "cell_type": "code",
   "execution_count": 112,
   "id": "32e08478",
   "metadata": {},
   "outputs": [
    {
     "data": {
      "text/latex": [
       "$\\displaystyle \\left[\\begin{matrix}0\\\\-1\\\\0\\\\0\\end{matrix}\\right]$"
      ],
      "text/plain": [
       "⎡0 ⎤\n",
       "⎢  ⎥\n",
       "⎢-1⎥\n",
       "⎢  ⎥\n",
       "⎢0 ⎥\n",
       "⎢  ⎥\n",
       "⎣0 ⎦"
      ]
     },
     "execution_count": 112,
     "metadata": {},
     "output_type": "execute_result"
    }
   ],
   "source": [
    "psi.subs(x, pi)"
   ]
  },
  {
   "cell_type": "code",
   "execution_count": 51,
   "id": "5c362ebc",
   "metadata": {},
   "outputs": [
    {
     "data": {
      "text/latex": [
       "$\\displaystyle \\left[\\begin{matrix}0 & 1\\\\1 & 0\\end{matrix}\\right]$"
      ],
      "text/plain": [
       "⎡0  1⎤\n",
       "⎢    ⎥\n",
       "⎣1  0⎦"
      ]
     },
     "execution_count": 51,
     "metadata": {},
     "output_type": "execute_result"
    }
   ],
   "source": [
    "CNOT(0, 1).get_target_matrix()"
   ]
  },
  {
   "cell_type": "code",
   "execution_count": 89,
   "id": "c0e2ae79",
   "metadata": {},
   "outputs": [
    {
     "data": {
      "image/png": "[encoded data removed]",
      "text/latex": [
       "$\\displaystyle \\cos^{4}{\\left(\\frac{x}{2} \\right)}$"
      ],
      "text/plain": [
       "   4⎛x⎞\n",
       "cos ⎜─⎟\n",
       "    ⎝2⎠"
      ]
     },
     "execution_count": 89,
     "metadata": {},
     "output_type": "execute_result"
    }
   ],
   "source": [
    "((cos(x/2)) ** 2) ** 2"
   ]
  },
  {
   "cell_type": "code",
   "execution_count": 90,
   "id": "4eaf766e",
   "metadata": {},
   "outputs": [
    {
     "data": {
      "image/png": "[encoded data removed]",
      "text/latex": [
       "$\\displaystyle \\sin^{2}{\\left(\\frac{x}{2} \\right)} \\cos^{2}{\\left(\\frac{x}{2} \\right)}$"
      ],
      "text/plain": [
       "   2⎛x⎞    2⎛x⎞\n",
       "sin ⎜─⎟⋅cos ⎜─⎟\n",
       "    ⎝2⎠     ⎝2⎠"
      ]
     },
     "execution_count": 90,
     "metadata": {},
     "output_type": "execute_result"
    }
   ],
   "source": [
    "((sin(x/2)) * cos(x/2)) ** 2"
   ]
  },
  {
   "cell_type": "markdown",
   "id": "8b52919c",
   "metadata": {},
   "source": [
    "$$\\alpha$$"
   ]
  },
  {
   "cell_type": "markdown",
   "id": "c7d1153a",
   "metadata": {},
   "source": [
    "$$\\displaystyle {\\left|0\\right\\rangle } + {\\left|1\\right\\rangle }$$"
   ]
  },
  {
   "cell_type": "markdown",
   "id": "c1ab07ef",
   "metadata": {},
   "source": [
    "|0⟩ + |1⟩"
   ]
  },
  {
   "cell_type": "code",
   "execution_count": 144,
   "id": "4e86a1f6",
   "metadata": {},
   "outputs": [
    {
     "data": {
      "image/png": "[encoded data removed]",
      "text/latex": [
       "$\\displaystyle {\\left|0\\right\\rangle } + {\\left|1\\right\\rangle }$"
      ],
      "text/plain": [
       "❘0⟩ + ❘1⟩"
      ]
     },
     "execution_count": 144,
     "metadata": {},
     "output_type": "execute_result"
    }
   ],
   "source": [
    "Qubit(0) + Qubit(1)"
   ]
  },
  {
   "cell_type": "code",
   "execution_count": 9,
   "id": "55f923cd",
   "metadata": {},
   "outputs": [
    {
     "data": {
      "text/latex": [
       "$\\displaystyle {\\left|x\\right\\rangle }$"
      ],
      "text/plain": [
       "❘x⟩"
      ]
     },
     "execution_count": 9,
     "metadata": {},
     "output_type": "execute_result"
    }
   ],
   "source": [
    "from sympy.abc import i, k, m, n, x\n",
    "from sympy.physics.quantum import Ket\n",
    "Ket(x)"
   ]
  },
  {
   "cell_type": "code",
   "execution_count": 11,
   "id": "6c2e1035",
   "metadata": {},
   "outputs": [],
   "source": [
    "\n",
    "\n",
    "from sympy import Sum, factorial, oo, IndexedBase, Function\n",
    "\n",
    "had = Sum(Ket(x), (x, 0, 2**n -1))"
   ]
  },
  {
   "cell_type": "code",
   "execution_count": 15,
   "id": "323e3e57",
   "metadata": {},
   "outputs": [
    {
     "data": {
      "text/latex": [
       "$\\displaystyle \\sum_{x=0}^{2^{n} - 1} {\\left|x\\right\\rangle }$"
      ],
      "text/plain": [
       " n        \n",
       "2  - 1    \n",
       " ___      \n",
       " ╲        \n",
       "  ╲       \n",
       "  ╱    ❘x⟩\n",
       " ╱        \n",
       " ‾‾‾      \n",
       "x = 0     "
      ]
     },
     "execution_count": 15,
     "metadata": {},
     "output_type": "execute_result"
    }
   ],
   "source": [
    "had"
   ]
  },
  {
   "cell_type": "code",
   "execution_count": 17,
   "id": "fe0c4b2c",
   "metadata": {},
   "outputs": [],
   "source": [
    "had_1 = had.subs(n, 2)"
   ]
  },
  {
   "cell_type": "code",
   "execution_count": 18,
   "id": "2efb9e95",
   "metadata": {},
   "outputs": [
    {
     "data": {
      "text/latex": [
       "$\\displaystyle 4 {\\left|x\\right\\rangle }$"
      ],
      "text/plain": [
       "4⋅❘x⟩"
      ]
     },
     "execution_count": 18,
     "metadata": {},
     "output_type": "execute_result"
    }
   ],
   "source": [
    "had_1.doit()"
   ]
  },
  {
   "cell_type": "code",
   "execution_count": 33,
   "id": "60667618",
   "metadata": {},
   "outputs": [
    {
     "data": {
      "text/latex": [
       "$\\displaystyle \\frac{\\sqrt{2} \\sum_{n=0}^{2^{n} - 1} \\operatorname{ket}{\\left(n \\right)}}{2}$"
      ],
      "text/plain": [
       "    n           \n",
       "   2  - 1       \n",
       "    ___         \n",
       "    ╲           \n",
       "     ╲          \n",
       "√2⋅  ╱    ket(n)\n",
       "    ╱           \n",
       "    ‾‾‾         \n",
       "   n = 0        \n",
       "────────────────\n",
       "       2        "
      ]
     },
     "execution_count": 33,
     "metadata": {},
     "output_type": "execute_result"
    }
   ],
   "source": [
    "f = Function('ket')\n",
    "hadamard_transform = 1/sqrt(2)*Sum(f(n), (n, 0, 2**n-1))\n",
    "hadamard_transform"
   ]
  },
  {
   "cell_type": "code",
   "execution_count": 34,
   "id": "ebbae5a6",
   "metadata": {},
   "outputs": [
    {
     "data": {
      "text/latex": [
       "$\\displaystyle \\frac{\\sqrt{2} \\sum_{n=0}^{2^{n} - 1} \\operatorname{ket}{\\left(n \\right)}}{2}$"
      ],
      "text/plain": [
       "    n           \n",
       "   2  - 1       \n",
       "    ___         \n",
       "    ╲           \n",
       "     ╲          \n",
       "√2⋅  ╱    ket(n)\n",
       "    ╱           \n",
       "    ‾‾‾         \n",
       "   n = 0        \n",
       "────────────────\n",
       "       2        "
      ]
     },
     "execution_count": 34,
     "metadata": {},
     "output_type": "execute_result"
    }
   ],
   "source": [
    "hadamard_transform.doit()"
   ]
  },
  {
   "cell_type": "code",
   "execution_count": null,
   "id": "e1c9e438",
   "metadata": {},
   "outputs": [],
   "source": [
    "from sympy.physics.quantum import TensorProduct"
   ]
  },
  {
   "cell_type": "code",
   "execution_count": 36,
   "id": "05c7edbb",
   "metadata": {},
   "outputs": [],
   "source": [
    "g = Function('g')"
   ]
  },
  {
   "cell_type": "code",
   "execution_count": 43,
   "id": "94e05d31",
   "metadata": {},
   "outputs": [],
   "source": [
    "def f(x):\n",
    "    if x == 0:\n",
    "        return 0\n",
    "    else:\n",
    "        return x + 1"
   ]
  },
  {
   "cell_type": "code",
   "execution_count": 59,
   "id": "e3c6009c",
   "metadata": {},
   "outputs": [],
   "source": [
    "from sympy import pi, Integer\n",
    "\n",
    "class f(Function):\n",
    "   @classmethod\n",
    "   def eval(cls, x):\n",
    "        if x == 0:\n",
    "            return 0\n",
    "        else:\n",
    "            return 1"
   ]
  },
  {
   "cell_type": "code",
   "execution_count": 62,
   "id": "ca10d994",
   "metadata": {},
   "outputs": [
    {
     "data": {
      "text/plain": [
       "True"
      ]
     },
     "execution_count": 62,
     "metadata": {},
     "output_type": "execute_result"
    }
   ],
   "source": [
    "f(0) != f(1)\n"
   ]
  },
  {
   "cell_type": "code",
   "execution_count": 63,
   "id": "b2e35f68",
   "metadata": {},
   "outputs": [],
   "source": [
    "class g(Function):\n",
    "   @classmethod\n",
    "   def eval(cls, x):\n",
    "            return 0"
   ]
  },
  {
   "cell_type": "code",
   "execution_count": 64,
   "id": "5d1bf485",
   "metadata": {},
   "outputs": [
    {
     "data": {
      "text/plain": [
       "True"
      ]
     },
     "execution_count": 64,
     "metadata": {},
     "output_type": "execute_result"
    }
   ],
   "source": [
    "g(0) == g(1)"
   ]
  },
  {
   "cell_type": "code",
   "execution_count": 66,
   "id": "c9491f2b",
   "metadata": {},
   "outputs": [
    {
     "data": {
      "text/latex": [
       "$\\displaystyle \\frac{\\sqrt{2} \\left({{\\left|0\\right\\rangle }}\\otimes {{\\left|0\\right\\rangle }} + {{\\left|1\\right\\rangle }}\\otimes {{\\left|1\\right\\rangle }}\\right)}{2}$"
      ],
      "text/plain": [
       "√2⋅(❘0⟩⨂ ❘0⟩ + ❘1⟩⨂ ❘1⟩)\n",
       "────────────────────────\n",
       "           2            "
      ]
     },
     "execution_count": 66,
     "metadata": {},
     "output_type": "execute_result"
    }
   ],
   "source": [
    "res = 1/sqrt(2)*(TensorProduct(Ket(0), Ket(f(0))) + TensorProduct(Ket(1), Ket(f(1)))) \n",
    "res"
   ]
  },
  {
   "cell_type": "code",
   "execution_count": 65,
   "id": "dae11520",
   "metadata": {},
   "outputs": [
    {
     "data": {
      "text/latex": [
       "$\\displaystyle {{\\left|0\\right\\rangle }}\\otimes {{\\left|0\\right\\rangle }} + {{\\left|1\\right\\rangle }}\\otimes {{\\left|0\\right\\rangle }}$"
      ],
      "text/plain": [
       "❘0⟩⨂ ❘0⟩ + ❘1⟩⨂ ❘0⟩"
      ]
     },
     "execution_count": 65,
     "metadata": {},
     "output_type": "execute_result"
    }
   ],
   "source": [
    "TensorProduct(Ket(0), Ket(g(0))) + TensorProduct(Ket(1), Ket(g(1)))"
   ]
  },
  {
   "cell_type": "code",
   "execution_count": 50,
   "id": "278a1e7b",
   "metadata": {},
   "outputs": [
    {
     "data": {
      "text/latex": [
       "$\\displaystyle {{\\left|0\\right\\rangle }}\\otimes {{\\left|0\\right\\rangle }} + {{\\left|1\\right\\rangle }}\\otimes {{\\left|0\\right\\rangle }}$"
      ],
      "text/plain": [
       "❘0⟩⨂ ❘0⟩ + ❘1⟩⨂ ❘0⟩"
      ]
     },
     "execution_count": 50,
     "metadata": {},
     "output_type": "execute_result"
    }
   ],
   "source": [
    "res.subs(x, 0)"
   ]
  },
  {
   "cell_type": "code",
   "execution_count": 2,
   "id": "de7bdce7",
   "metadata": {},
   "outputs": [],
   "source": [
    "alpha, beta = symbols('alpha beta', real=True)"
   ]
  },
  {
   "cell_type": "code",
   "execution_count": 3,
   "id": "f95c142b",
   "metadata": {},
   "outputs": [
    {
     "data": {
      "text/latex": [
       "$\\displaystyle \\alpha {\\left|00\\right\\rangle } + \\beta {\\left|11\\right\\rangle }$"
      ],
      "text/plain": [
       "α⋅❘00⟩ + β⋅❘11⟩"
      ]
     },
     "execution_count": 3,
     "metadata": {},
     "output_type": "execute_result"
    }
   ],
   "source": [
    "psi = alpha*Qubit('00') + beta*Qubit('11'); psi"
   ]
  },
  {
   "cell_type": "code",
   "execution_count": 5,
   "id": "fd4730d8",
   "metadata": {},
   "outputs": [
    {
     "data": {
      "text/latex": [
       "$\\displaystyle \\alpha {\\left\\langle 00\\right|} + \\beta {\\left\\langle 11\\right|}$"
      ],
      "text/plain": [
       "α⋅⟨00❘ + β⋅⟨11❘"
      ]
     },
     "execution_count": 5,
     "metadata": {},
     "output_type": "execute_result"
    }
   ],
   "source": [
    "from sympy.physics.quantum import *\n",
    "Dagger(psi)"
   ]
  },
  {
   "cell_type": "code",
   "execution_count": 6,
   "id": "6cee8cbd",
   "metadata": {},
   "outputs": [
    {
     "data": {
      "text/latex": [
       "$\\displaystyle \\left[\\begin{matrix}\\alpha\\\\0\\\\0\\\\\\beta\\end{matrix}\\right]$"
      ],
      "text/plain": [
       "⎡α⎤\n",
       "⎢ ⎥\n",
       "⎢0⎥\n",
       "⎢ ⎥\n",
       "⎢0⎥\n",
       "⎢ ⎥\n",
       "⎣β⎦"
      ]
     },
     "execution_count": 6,
     "metadata": {},
     "output_type": "execute_result"
    }
   ],
   "source": [
    "represent(psi)"
   ]
  },
  {
   "cell_type": "code",
   "execution_count": null,
   "id": "fa28bbb3",
   "metadata": {},
   "outputs": [],
   "source": []
  }
 ],
 "metadata": {
  "kernelspec": {
   "display_name": "Python 3 (ipykernel)",
   "language": "python",
   "name": "python3"
  },
  "language_info": {
   "codemirror_mode": {
    "name": "ipython",
    "version": 3
   },
   "file_extension": ".py",
   "mimetype": "text/x-python",
   "name": "python",
   "nbconvert_exporter": "python",
   "pygments_lexer": "ipython3",
   "version": "3.8.13"
  }
 },
 "nbformat": 4,
 "nbformat_minor": 5
}
