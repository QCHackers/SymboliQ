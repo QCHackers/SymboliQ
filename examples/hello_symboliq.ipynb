{
 "cells": [
  {
   "cell_type": "markdown",
   "id": "5440d0d3",
   "metadata": {},
   "source": [
    "This package is an implementation of \"Symbolic Reasoning about Quantum Circuits in Coq.\" In that paper they implement a way of simpylinf circuits using symbols instead of Matrix multiplication  . Usually when you apply an X gate to a state, you do by represensting the operation as a matrix. In dirac notation, you can simpifly it in a symbolic way. Taking the same example they have in that paper, they implement that sybmplically.  This is way of deriving quantum circuits can be very useful for research who tend to use dirac notation instead of matrix multiplication."
   ]
  },
  {
   "cell_type": "code",
   "execution_count": 1,
   "id": "95554422",
   "metadata": {},
   "outputs": [],
   "source": [
    "from IPython.display import display, Math, HTML\n",
    "from sympy.physics.quantum import TensorProduct, qapply\n",
    "from symboliq.dirac_notation import DiracNotation, cx, h, i, ket_0, x, ket_1\n",
    "from sympy.physics.quantum.gate import XGate\n",
    "from sympy.physics.quantum.qubit import Qubit\n",
    "import sympy\n",
    "import symboliq\n",
    "from sympy.core.numbers import Integer"
   ]
  },
  {
   "cell_type": "markdown",
   "id": "f87a1ebe",
   "metadata": {},
   "source": [
    "In sympy, you can have a program like "
   ]
  },
  {
   "cell_type": "code",
   "execution_count": 2,
   "id": "8959d66e",
   "metadata": {},
   "outputs": [
    {
     "name": "stdout",
     "output_type": "stream",
     "text": [
      "X(0)*|0>\n",
      "|1>\n"
     ]
    }
   ],
   "source": [
    "state = Qubit(\"0\")\n",
    "\n",
    "res = XGate(0) * state\n",
    "print(res)\n",
    "\n",
    "application = qapply(res)\n",
    "print(application)"
   ]
  },
  {
   "cell_type": "markdown",
   "id": "1da5e829",
   "metadata": {},
   "source": [
    "Internally, Sympy applies this qubit to a state via matrix multiplication. It's similar to calling"
   ]
  },
  {
   "cell_type": "code",
   "execution_count": 3,
   "id": "a349fb34",
   "metadata": {},
   "outputs": [
    {
     "data": {
      "text/latex": [
       "$\\displaystyle {\\left|1\\right\\rangle }$"
      ],
      "text/plain": [
       "|1>"
      ]
     },
     "execution_count": 3,
     "metadata": {},
     "output_type": "execute_result"
    }
   ],
   "source": [
    "XGate(0)._apply_operator_Qubit(state)"
   ]
  },
  {
   "cell_type": "markdown",
   "id": "2f3411b1",
   "metadata": {},
   "source": [
    "Which is implemented to perform matrx multiplication. Below is a simplified version of the implementation"
   ]
  },
  {
   "cell_type": "code",
   "execution_count": 4,
   "id": "53995f6f",
   "metadata": {},
   "outputs": [],
   "source": [
    "def apply_operator_Qubit(operator, qubits):\n",
    "    targets = operator.targets\n",
    "    target_matrix = operator.get_target_matrix()  # returns Matrix([[0, 1], [1, 0]]) for an X gate\n",
    "\n",
    "    # Find which column of the target matrix this applies to.\n",
    "    column_index = 0\n",
    "    n = 1\n",
    "    for target in targets:\n",
    "        column_index += n * qubits[target]\n",
    "        n = n << 1\n",
    "        column = target_matrix[:, int(column_index)]\n",
    "\n",
    "    # Now apply each column element to the qubit.\n",
    "    result = 0\n",
    "    for index in range(column.rows):\n",
    "        new_qubit = qubits.__class__(*qubits.args)\n",
    "        # Flip the bits that need to be flipped.\n",
    "        for bit, target in enumerate(targets):\n",
    "            if new_qubit[target] != (index >> bit) & 1:\n",
    "                new_qubit = new_qubit.flip(target)\n",
    "        # The value in that row and column times the flipped-bit qubit\n",
    "        # is the result for that part.\n",
    "        result += column[index] * new_qubit\n",
    "    return result"
   ]
  },
  {
   "cell_type": "code",
   "execution_count": 5,
   "id": "e2f3a9e0",
   "metadata": {},
   "outputs": [
    {
     "data": {
      "text/latex": [
       "$\\displaystyle {\\left|1\\right\\rangle }$"
      ],
      "text/plain": [
       "|1>"
      ]
     },
     "execution_count": 5,
     "metadata": {},
     "output_type": "execute_result"
    }
   ],
   "source": [
    "apply_operator_Qubit(XGate(0), state)"
   ]
  },
  {
   "cell_type": "markdown",
   "id": "d3ce2757",
   "metadata": {},
   "source": [
    "SymboliQ on the other hand uses Dirac Notation"
   ]
  },
  {
   "cell_type": "code",
   "execution_count": 6,
   "id": "f4da037f",
   "metadata": {},
   "outputs": [
    {
     "data": {
      "text/latex": [
       "$\\displaystyle {\\left|1\\right\\rangle }$"
      ],
      "text/plain": [
       "|1>"
      ]
     },
     "execution_count": 6,
     "metadata": {},
     "output_type": "execute_result"
    }
   ],
   "source": [
    "symboliq.qapply(XGate(0) * state)"
   ]
  },
  {
   "cell_type": "code",
   "execution_count": 9,
   "id": "b06d2314",
   "metadata": {},
   "outputs": [],
   "source": [
    "steps = symboliq.get_simp_steps(XGate(0) * state)"
   ]
  },
  {
   "cell_type": "code",
   "execution_count": 10,
   "id": "600cebe1",
   "metadata": {},
   "outputs": [
    {
     "name": "stdout",
     "output_type": "stream",
     "text": [
      "(0) X(0)*|0>\n",
      "(1) |0><1|*|0> + |1><0|*|0>\n",
      "(2) |1>\n",
      "\n"
     ]
    }
   ],
   "source": [
    "print(steps)"
   ]
  }
 ],
 "metadata": {
  "kernelspec": {
   "display_name": "Python 3 (ipykernel)",
   "language": "python",
   "name": "python3"
  },
  "language_info": {
   "codemirror_mode": {
    "name": "ipython",
    "version": 3
   },
   "file_extension": ".py",
   "mimetype": "text/x-python",
   "name": "python",
   "nbconvert_exporter": "python",
   "pygments_lexer": "ipython3",
   "version": "3.8.13"
  }
 },
 "nbformat": 4,
 "nbformat_minor": 5
}
