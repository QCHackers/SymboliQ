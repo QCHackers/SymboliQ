{
 "cells": [
  {
   "cell_type": "code",
   "execution_count": 3,
   "id": "95554422",
   "metadata": {},
   "outputs": [],
   "source": [
    "from IPython.display import display, Math\n",
    "from sympy.physics.quantum import TensorProduct\n",
    "from symboliq.dirac_notation import DiracNotation, cx, h, i, ket_0, x, ket_1, b_0, B0"
   ]
  },
  {
   "cell_type": "code",
   "execution_count": 6,
   "id": "f4da037f",
   "metadata": {},
   "outputs": [],
   "source": [
    "dirac_notation = DiracNotation(B0 * ket_0)"
   ]
  },
  {
   "cell_type": "code",
   "execution_count": 10,
   "id": "b06d2314",
   "metadata": {},
   "outputs": [],
   "source": [
    "res = dirac_notation.get_steps_latex()"
   ]
  },
  {
   "cell_type": "code",
   "execution_count": 11,
   "id": "600cebe1",
   "metadata": {},
   "outputs": [
    {
     "data": {
      "text/latex": [
       "$\\displaystyle (0) \\quad B_{0} {\\left|0\\right\\rangle } \\\\(1) \\quad \\left\\langle 0 \\right. {\\left|0\\right\\rangle } {\\left|0\\right\\rangle } \\\\(2) \\quad {\\left|0\\right\\rangle } \\\\$"
      ],
      "text/plain": [
       "<IPython.core.display.Math object>"
      ]
     },
     "metadata": {},
     "output_type": "display_data"
    }
   ],
   "source": [
    "display(Math(res))"
   ]
  }
 ],
 "metadata": {
  "kernelspec": {
   "display_name": "Python 3 (ipykernel)",
   "language": "python",
   "name": "python3"
  },
  "language_info": {
   "codemirror_mode": {
    "name": "ipython",
    "version": 3
   },
   "file_extension": ".py",
   "mimetype": "text/x-python",
   "name": "python",
   "nbconvert_exporter": "python",
   "pygments_lexer": "ipython3",
   "version": "3.8.13"
  }
 },
 "nbformat": 4,
 "nbformat_minor": 5
}
