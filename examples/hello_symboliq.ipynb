{
 "cells": [
  {
   "cell_type": "markdown",
   "id": "0477561b",
   "metadata": {},
   "source": [
    "#### See the [poster](https://github.com/vtomole/SymboliQ/blob/main/examples/poster.pdf) for a description of this code."
   ]
  },
  {
   "cell_type": "code",
   "execution_count": 50,
   "id": "95554422",
   "metadata": {},
   "outputs": [],
   "source": [
    "from sympy.physics.quantum import qapply\n",
    "from sympy.physics.quantum.gate import XGate\n",
    "from sympy.physics.quantum.qubit import Qubit\n",
    "import symboliq"
   ]
  },
  {
   "cell_type": "code",
   "execution_count": 51,
   "id": "8959d66e",
   "metadata": {},
   "outputs": [
    {
     "data": {
      "text/latex": [
       "$\\displaystyle X_{0} {\\left|0\\right\\rangle }$"
      ],
      "text/plain": [
       "X(0)*|0>"
      ]
     },
     "execution_count": 51,
     "metadata": {},
     "output_type": "execute_result"
    }
   ],
   "source": [
    "state = Qubit(0)\n",
    "\n",
    "XGate(0) * state"
   ]
  },
  {
   "cell_type": "code",
   "execution_count": 52,
   "id": "93a4e6e9",
   "metadata": {},
   "outputs": [
    {
     "data": {
      "text/latex": [
       "$\\displaystyle {\\left|1\\right\\rangle }$"
      ],
      "text/plain": [
       "|1>"
      ]
     },
     "execution_count": 52,
     "metadata": {},
     "output_type": "execute_result"
    }
   ],
   "source": [
    "qapply(XGate(0) * state)"
   ]
  },
  {
   "cell_type": "code",
   "execution_count": 53,
   "id": "a349fb34",
   "metadata": {},
   "outputs": [
    {
     "data": {
      "text/latex": [
       "$\\displaystyle {\\left|1\\right\\rangle }$"
      ],
      "text/plain": [
       "|1>"
      ]
     },
     "execution_count": 53,
     "metadata": {},
     "output_type": "execute_result"
    }
   ],
   "source": [
    "XGate(0)._apply_operator_Qubit(state)"
   ]
  },
  {
   "cell_type": "code",
   "execution_count": 54,
   "id": "53995f6f",
   "metadata": {},
   "outputs": [],
   "source": [
    "def apply_operator_Qubit(operator, qubits):\n",
    "    targets = operator.targets\n",
    "    \n",
    "    # returns Matrix([[0, 1], [1, 0]]) for an X gate\n",
    "    target_matrix = operator.get_target_matrix() \n",
    "\n",
    "    # Find which column of the target matrix this applies to.\n",
    "    column_index = 0\n",
    "    n = 1\n",
    "    for target in targets:\n",
    "        column_index += n * qubits[target]\n",
    "        n = n << 1\n",
    "        column = target_matrix[:, int(column_index)]\n",
    "\n",
    "    # Now apply each column element to the qubit.\n",
    "    result = 0\n",
    "    for index in range(column.rows):\n",
    "        new_qubit = qubits.__class__(*qubits.args)\n",
    "        # Flip the bits that need to be flipped.\n",
    "        for bit, target in enumerate(targets):\n",
    "            if new_qubit[target] != (index >> bit) & 1:\n",
    "                new_qubit = new_qubit.flip(target)\n",
    "        # The value in that row and column times the \n",
    "        # flipped-bit qubit is the result for that part.\n",
    "        result += column[index] * new_qubit\n",
    "    return result"
   ]
  },
  {
   "cell_type": "code",
   "execution_count": 55,
   "id": "e2f3a9e0",
   "metadata": {},
   "outputs": [
    {
     "data": {
      "text/latex": [
       "$\\displaystyle {\\left|1\\right\\rangle }$"
      ],
      "text/plain": [
       "|1>"
      ]
     },
     "execution_count": 55,
     "metadata": {},
     "output_type": "execute_result"
    }
   ],
   "source": [
    "apply_operator_Qubit(XGate(0), state)"
   ]
  },
  {
   "cell_type": "code",
   "execution_count": 56,
   "id": "f4da037f",
   "metadata": {},
   "outputs": [
    {
     "data": {
      "text/latex": [
       "$\\displaystyle {\\left|1\\right\\rangle }$"
      ],
      "text/plain": [
       "|1>"
      ]
     },
     "execution_count": 56,
     "metadata": {},
     "output_type": "execute_result"
    }
   ],
   "source": [
    "symboliq.qapply(XGate(0) * state)"
   ]
  },
  {
   "cell_type": "code",
   "execution_count": 57,
   "id": "b06d2314",
   "metadata": {},
   "outputs": [
    {
     "name": "stdout",
     "output_type": "stream",
     "text": [
      "(0) X(0)*|0>\n",
      "(1) |0><1|*|0> + |1><0|*|0>\n",
      "(2) |1>\n",
      "\n"
     ]
    }
   ],
   "source": [
    "print(symboliq.get_simp_steps(XGate(0) * state))"
   ]
  }
 ],
 "metadata": {
  "kernelspec": {
   "display_name": "Python 3 (ipykernel)",
   "language": "python",
   "name": "python3"
  },
  "language_info": {
   "codemirror_mode": {
    "name": "ipython",
    "version": 3
   },
   "file_extension": ".py",
   "mimetype": "text/x-python",
   "name": "python",
   "nbconvert_exporter": "python",
   "pygments_lexer": "ipython3",
   "version": "3.8.13"
  }
 },
 "nbformat": 4,
 "nbformat_minor": 5
}
